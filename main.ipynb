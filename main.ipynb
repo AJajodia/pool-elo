{
 "cells": [
  {
   "cell_type": "code",
   "execution_count": 1,
   "id": "726aefb7",
   "metadata": {},
   "outputs": [],
   "source": [
    "from utils import *\n",
    "import pandas as pd"
   ]
  },
  {
   "cell_type": "code",
   "execution_count": 6,
   "id": "f278b446",
   "metadata": {},
   "outputs": [],
   "source": [
    "add_match(date='7_24',winner='Hayden',loser='Nyk')"
   ]
  },
  {
   "cell_type": "code",
   "execution_count": 12,
   "id": "953a6ff9",
   "metadata": {},
   "outputs": [],
   "source": [
    "write_leaderboard()"
   ]
  },
  {
   "cell_type": "code",
   "execution_count": 8,
   "id": "f719931a",
   "metadata": {},
   "outputs": [
    {
     "data": {
      "text/plain": [
       "{'Anu': 1241,\n",
       " 'Milo': 993,\n",
       " 'Theo': 1408,\n",
       " 'Nyk': 1104,\n",
       " 'Franky': 1144,\n",
       " 'Hayden': 1326,\n",
       " 'Brendon': 1201,\n",
       " 'Aayushka': 1160}"
      ]
     },
     "execution_count": 8,
     "metadata": {},
     "output_type": "execute_result"
    }
   ],
   "source": [
    "show_elo()"
   ]
  },
  {
   "cell_type": "code",
   "execution_count": 11,
   "id": "c336eb2d",
   "metadata": {},
   "outputs": [
    {
     "data": {
      "text/plain": [
       "(1084, 1316)"
      ]
     },
     "execution_count": 11,
     "metadata": {},
     "output_type": "execute_result"
    }
   ],
   "source": [
    "get_elo(993, 1408, k=100)"
   ]
  }
 ],
 "metadata": {
  "kernelspec": {
   "display_name": "Python 3",
   "language": "python",
   "name": "python3"
  },
  "language_info": {
   "codemirror_mode": {
    "name": "ipython",
    "version": 3
   },
   "file_extension": ".py",
   "mimetype": "text/x-python",
   "name": "python",
   "nbconvert_exporter": "python",
   "pygments_lexer": "ipython3",
   "version": "3.11.1"
  }
 },
 "nbformat": 4,
 "nbformat_minor": 5
}
