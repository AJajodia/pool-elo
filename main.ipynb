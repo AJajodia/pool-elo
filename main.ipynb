{
 "cells": [
  {
   "cell_type": "code",
   "execution_count": 1,
   "id": "726aefb7",
   "metadata": {},
   "outputs": [],
   "source": [
    "from utils import *\n",
    "import pandas as pd"
   ]
  },
  {
   "cell_type": "code",
   "execution_count": 2,
   "id": "ecb173d6",
   "metadata": {},
   "outputs": [
    {
     "data": {
      "text/plain": [
       "{'Anu': 1368,\n",
       " 'Milo': 1062,\n",
       " 'Theo': 1200,\n",
       " 'Nyk': 1081,\n",
       " 'Franky': 1213,\n",
       " 'Hayden': 1275,\n",
       " 'Brendon': 1193}"
      ]
     },
     "execution_count": 2,
     "metadata": {},
     "output_type": "execute_result"
    }
   ],
   "source": [
    "show_elo()"
   ]
  },
  {
   "cell_type": "code",
   "execution_count": 3,
   "id": "f278b446",
   "metadata": {},
   "outputs": [
    {
     "name": "stdout",
     "output_type": "stream",
     "text": [
      "1 - Anu: 1368\n",
      "2 - Hayden: 1275\n",
      "3 - Franky: 1213\n",
      "4 - Theo: 1200\n",
      "5 - Brendon: 1193\n",
      "6 - Nyk: 1081\n",
      "7 - Milo: 1062\n"
     ]
    }
   ],
   "source": [
    "print_leaderboard()"
   ]
  }
 ],
 "metadata": {
  "kernelspec": {
   "display_name": "Python 3",
   "language": "python",
   "name": "python3"
  },
  "language_info": {
   "codemirror_mode": {
    "name": "ipython",
    "version": 3
   },
   "file_extension": ".py",
   "mimetype": "text/x-python",
   "name": "python",
   "nbconvert_exporter": "python",
   "pygments_lexer": "ipython3",
   "version": "3.11.1"
  }
 },
 "nbformat": 4,
 "nbformat_minor": 5
}
