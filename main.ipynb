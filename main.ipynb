{
 "cells": [
  {
   "cell_type": "code",
   "execution_count": 1,
   "id": "726aefb7",
   "metadata": {},
   "outputs": [],
   "source": [
    "from utils import *\n",
    "import pandas as pd"
   ]
  },
  {
   "cell_type": "code",
   "execution_count": 3,
   "id": "ecb173d6",
   "metadata": {},
   "outputs": [],
   "source": [
    "add_match(date=\"7_21\", winner=\"Theo\", loser=\"Milo\")"
   ]
  },
  {
   "cell_type": "code",
   "execution_count": 4,
   "id": "f278b446",
   "metadata": {},
   "outputs": [
    {
     "name": "stdout",
     "output_type": "stream",
     "text": [
      "1 - Anu: 1368\n",
      "2 - Hayden: 1275\n",
      "3 - Theo: 1231\n",
      "4 - Brendon: 1193\n",
      "5 - Nyk: 1149\n",
      "6 - Franky: 1144\n",
      "7 - Milo: 1030\n"
     ]
    }
   ],
   "source": [
    "print_leaderboard()"
   ]
  },
  {
   "cell_type": "code",
   "execution_count": 5,
   "id": "953a6ff9",
   "metadata": {},
   "outputs": [],
   "source": [
    "write_leaderboard()"
   ]
  }
 ],
 "metadata": {
  "kernelspec": {
   "display_name": "Python 3",
   "language": "python",
   "name": "python3"
  },
  "language_info": {
   "codemirror_mode": {
    "name": "ipython",
    "version": 3
   },
   "file_extension": ".py",
   "mimetype": "text/x-python",
   "name": "python",
   "nbconvert_exporter": "python",
   "pygments_lexer": "ipython3",
   "version": "3.11.1"
  }
 },
 "nbformat": 4,
 "nbformat_minor": 5
}
