{
 "cells": [
  {
   "cell_type": "code",
   "execution_count": 2,
   "id": "726aefb7",
   "metadata": {},
   "outputs": [],
   "source": [
    "from utils import *\n",
    "import pandas as pd"
   ]
  },
  {
   "cell_type": "code",
   "execution_count": 7,
   "id": "f278b446",
   "metadata": {},
   "outputs": [],
   "source": [
    "add_match(date='7_21',winner='Hayden',loser='Aayushka')"
   ]
  },
  {
   "cell_type": "code",
   "execution_count": 9,
   "id": "953a6ff9",
   "metadata": {},
   "outputs": [],
   "source": [
    "write_leaderboard()"
   ]
  },
  {
   "cell_type": "code",
   "execution_count": 8,
   "id": "f719931a",
   "metadata": {},
   "outputs": [
    {
     "data": {
      "text/plain": [
       "{'Anu': 1304,\n",
       " 'Milo': 1030,\n",
       " 'Theo': 1379,\n",
       " 'Nyk': 1071,\n",
       " 'Franky': 1144,\n",
       " 'Hayden': 1266,\n",
       " 'Brendon': 1231,\n",
       " 'Aayushka': 1160}"
      ]
     },
     "execution_count": 8,
     "metadata": {},
     "output_type": "execute_result"
    }
   ],
   "source": [
    "show_elo()"
   ]
  }
 ],
 "metadata": {
  "kernelspec": {
   "display_name": "Python 3",
   "language": "python",
   "name": "python3"
  },
  "language_info": {
   "codemirror_mode": {
    "name": "ipython",
    "version": 3
   },
   "file_extension": ".py",
   "mimetype": "text/x-python",
   "name": "python",
   "nbconvert_exporter": "python",
   "pygments_lexer": "ipython3",
   "version": "3.11.1"
  }
 },
 "nbformat": 4,
 "nbformat_minor": 5
}
